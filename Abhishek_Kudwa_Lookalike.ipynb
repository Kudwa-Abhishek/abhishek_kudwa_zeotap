{
 "cells": [
  {
   "cell_type": "markdown",
   "id": "150138b7",
   "metadata": {},
   "source": [
    "# Task2: Lookalike "
   ]
  },
  {
   "cell_type": "code",
   "execution_count": 6,
   "id": "5c66166a",
   "metadata": {},
   "outputs": [],
   "source": [
    "import pandas as pd\n",
    "from sklearn.metrics.pairwise import cosine_similarity\n",
    "from sklearn.preprocessing import StandardScaler\n"
   ]
  },
  {
   "cell_type": "code",
   "execution_count": 11,
   "id": "eeacff7b",
   "metadata": {
    "scrolled": true
   },
   "outputs": [
    {
     "name": "stdout",
     "output_type": "stream",
     "text": [
      "  CustomerID      CustomerName         Region  SignupDate\n",
      "0      C0001  Lawrence Carroll  South America  2022-07-10\n",
      "1      C0002    Elizabeth Lutz           Asia  2022-02-13\n",
      "2      C0003    Michael Rivera  South America  2024-03-07\n",
      "\n",
      "\n",
      "  ProductID              ProductName     Category   Price\n",
      "0      P001     ActiveWear Biography        Books  169.30\n",
      "1      P002    ActiveWear Smartwatch  Electronics  346.30\n",
      "2      P003  ComfortLiving Biography        Books   44.12\n",
      "\n",
      "\n",
      "  TransactionID CustomerID ProductID      TransactionDate  Quantity  \\\n",
      "0        T00001      C0199      P067  2024-08-25 12:38:23         1   \n",
      "1        T00112      C0146      P067  2024-05-27 22:23:54         1   \n",
      "2        T00166      C0127      P067  2024-04-25 07:38:55         1   \n",
      "\n",
      "   TotalValue   Price  \n",
      "0      300.68  300.68  \n",
      "1      300.68  300.68  \n",
      "2      300.68  300.68  \n"
     ]
    }
   ],
   "source": [
    "# Dataset loadin\n",
    "customers_df = pd.read_csv('Customers.csv')\n",
    "print(customers_df.head(3))\n",
    "print(\"\\n\")\n",
    "\n",
    "products_df = pd.read_csv('Products.csv')\n",
    "print(products_df.head(3))\n",
    "print(\"\\n\")\n",
    "\n",
    "transactions_df = pd.read_csv('Transactions.csv')\n",
    "print(transactions_df.head(3))\n"
   ]
  },
  {
   "cell_type": "code",
   "execution_count": 12,
   "id": "bccd9f07",
   "metadata": {},
   "outputs": [],
   "source": [
    "# Merging datasets for a unified view\n",
    "merged_data = transactions_df.merge(customers_df, on='CustomerID').merge(products_df, on='ProductID')"
   ]
  },
  {
   "cell_type": "code",
   "execution_count": 15,
   "id": "c307cabf",
   "metadata": {},
   "outputs": [],
   "source": [
    "# Feature engineering\n",
    "# Aggregating behavioral attributes per customer\n",
    "customer_features = merged_data.groupby('CustomerID').agg({\n",
    "    'TotalValue': 'sum',  # Total spend\n",
    "    'Quantity': 'sum',    # Total quantity purchased\n",
    "    'Price_x': 'mean',    # Average price of purchased products\n",
    "    'Category': lambda x: x.nunique()  # Number of unique categories purchased\n",
    "}).reset_index()"
   ]
  },
  {
   "cell_type": "code",
   "execution_count": 16,
   "id": "fdc8f471",
   "metadata": {},
   "outputs": [],
   "source": [
    "# Adding customer attributes (Region as categorical, SignupDate as numeric)\n",
    "customers_df['SignupDate'] = pd.to_datetime(customers_df['SignupDate'])\n",
    "customers_df['SignupDays'] = (customers_df['SignupDate'] - customers_df['SignupDate'].min()).dt.days\n",
    "customer_features = customer_features.merge(\n",
    "    customers_df[['CustomerID', 'Region', 'SignupDays']], on='CustomerID', how='left'\n",
    ")\n"
   ]
  },
  {
   "cell_type": "code",
   "execution_count": 17,
   "id": "81417488",
   "metadata": {},
   "outputs": [],
   "source": [
    "# One-hot encoding for Region (categorical variable)\n",
    "customer_features = pd.get_dummies(customer_features, columns=['Region'], drop_first=True)"
   ]
  },
  {
   "cell_type": "code",
   "execution_count": 18,
   "id": "621892f4",
   "metadata": {},
   "outputs": [],
   "source": [
    "# Normalize numerical features\n",
    "scaler = StandardScaler()\n",
    "numerical_columns = ['TotalValue', 'Quantity', 'Price_x', 'Category', 'SignupDays']\n",
    "customer_features[numerical_columns] = scaler.fit_transform(customer_features[numerical_columns])"
   ]
  },
  {
   "cell_type": "code",
   "execution_count": 20,
   "id": "6f699de0",
   "metadata": {},
   "outputs": [],
   "source": [
    "# Compute similarity scores using cosine similarity\n",
    "customer_ids = customer_features['CustomerID']\n",
    "features = customer_features.drop(columns=['CustomerID'])\n",
    "similarity_matrix = cosine_similarity(features)\n",
    "similarity_df = pd.DataFrame(similarity_matrix, index=customer_ids, columns=customer_ids)"
   ]
  },
  {
   "cell_type": "code",
   "execution_count": 21,
   "id": "cab1c99c",
   "metadata": {},
   "outputs": [],
   "source": [
    "# Find top 3 lookalikes for each customer\n",
    "lookalike_data = {}\n",
    "for cust_id in customer_ids[:20]:  # For customers C0001 to C0020\n",
    "    similar_customers = similarity_df[cust_id].sort_values(ascending=False)[1:4]  # Exclude self\n",
    "    lookalike_data[cust_id] = similar_customers.to_dict()"
   ]
  },
  {
   "cell_type": "code",
   "execution_count": 22,
   "id": "a7ceabaa",
   "metadata": {},
   "outputs": [
    {
     "name": "stdout",
     "output_type": "stream",
     "text": [
      "Lookalike data saved to: Lookalike.csv\n"
     ]
    }
   ],
   "source": [
    "# Save lookalike data to CSV\n",
    "lookalike_df = pd.DataFrame.from_dict(\n",
    "    {k: [v] for k, v in lookalike_data.items()}, orient='index', columns=['Lookalikes']\n",
    ")\n",
    "lookalike_df.index.name = 'cust_id'\n",
    "lookalike_csv_path = 'Lookalike.csv'\n",
    "lookalike_df.to_csv(lookalike_csv_path)\n",
    "\n",
    "print(f\"Lookalike data saved to: {lookalike_csv_path}\")"
   ]
  }
 ],
 "metadata": {
  "kernelspec": {
   "display_name": "Python 3 (ipykernel)",
   "language": "python",
   "name": "python3"
  },
  "language_info": {
   "codemirror_mode": {
    "name": "ipython",
    "version": 3
   },
   "file_extension": ".py",
   "mimetype": "text/x-python",
   "name": "python",
   "nbconvert_exporter": "python",
   "pygments_lexer": "ipython3",
   "version": "3.9.13"
  }
 },
 "nbformat": 4,
 "nbformat_minor": 5
}
